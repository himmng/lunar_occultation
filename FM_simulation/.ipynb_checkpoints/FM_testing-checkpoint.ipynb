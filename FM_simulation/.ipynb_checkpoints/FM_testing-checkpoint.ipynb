{
 "cells": [
  {
   "cell_type": "code",
   "execution_count": 18,
   "id": "3e2f4497",
   "metadata": {},
   "outputs": [],
   "source": [
    "from fm_flux import FM_CALC\n",
    "from astropy import units as u\n",
    "import numpy as np\n",
    "import matplotlib.pyplot as plt"
   ]
  },
  {
   "cell_type": "code",
   "execution_count": 19,
   "id": "2f6ebd74",
   "metadata": {},
   "outputs": [],
   "source": [
    "catalog_path = './full_earth_FM_moonrak.npy'"
   ]
  },
  {
   "cell_type": "code",
   "execution_count": 22,
   "id": "e1ed6ddc",
   "metadata": {},
   "outputs": [],
   "source": [
    "obsID = np.loadtxt('/home/himanshu/pawsey/phase2/moon/scripts/obsIDs_Oct_7_10_2023', dtype=np.int32)"
   ]
  },
  {
   "cell_type": "code",
   "execution_count": 23,
   "id": "e1c4170a",
   "metadata": {},
   "outputs": [],
   "source": [
    "FM_process = FM_CALC(catalog_path=catalog_path)"
   ]
  },
  {
   "cell_type": "code",
   "execution_count": 24,
   "id": "797d5445",
   "metadata": {},
   "outputs": [],
   "source": [
    "altaz_dist = FM_process.get_altaz_n_dist(obsID = obsID[0], FM_loc=None, save_as_array=False,)"
   ]
  },
  {
   "cell_type": "code",
   "execution_count": 25,
   "id": "217e48fa",
   "metadata": {},
   "outputs": [
    {
     "data": {
      "text/plain": [
       "(171225, 3)"
      ]
     },
     "execution_count": 25,
     "metadata": {},
     "output_type": "execute_result"
    }
   ],
   "source": [
    "altaz_dist.shape"
   ]
  },
  {
   "cell_type": "code",
   "execution_count": 26,
   "id": "65a34e9e",
   "metadata": {},
   "outputs": [],
   "source": [
    "station_cont=FM_process.get_station_RFIcontributions(obsID= obsID[0], altaz_array=altaz_dist,\\\n",
    "                                                 randomise_zero_power_stations=True,\\\n",
    "                                       save_as_array=False, )"
   ]
  },
  {
   "cell_type": "code",
   "execution_count": 27,
   "id": "d637419f",
   "metadata": {},
   "outputs": [
    {
     "data": {
      "text/plain": [
       "(20477, 8)"
      ]
     },
     "execution_count": 27,
     "metadata": {},
     "output_type": "execute_result"
    }
   ],
   "source": [
    "station_cont.shape"
   ]
  },
  {
   "cell_type": "code",
   "execution_count": 12,
   "id": "322c39d2",
   "metadata": {},
   "outputs": [],
   "source": [
    "FMflux = FM_process.get_FM_RFI_flux(obsID=obsID,bandpass='Gaussian', stations_array=station_cont, save_as_array=False,)"
   ]
  },
  {
   "cell_type": "code",
   "execution_count": 14,
   "id": "83209b63",
   "metadata": {},
   "outputs": [
    {
     "data": {
      "text/plain": [
       "[<matplotlib.lines.Line2D at 0x7ffb3aa10760>]"
      ]
     },
     "execution_count": 14,
     "metadata": {},
     "output_type": "execute_result"
    },
    {
     "data": {
      "image/png": "[encoded data removed]",
      "text/plain": [
       "<Figure size 432x288 with 1 Axes>"
      ]
     },
     "metadata": {
      "needs_background": "light"
     },
     "output_type": "display_data"
    }
   ],
   "source": [
    "plt.yscale('log')\n",
    "plt.plot(FMflux[0], FMflux[1],'.')"
   ]
  },
  {
   "cell_type": "code",
   "execution_count": 31,
   "id": "253a0d54",
   "metadata": {},
   "outputs": [],
   "source": [
    "    def get_FM_RFI_flux(obsID, transmitter_BW=180, div=5, bandpass='constant', stations_array=None,\\\n",
    "                        save_as_array=True, savefilename=None, savepath=None):\n",
    "        \n",
    "        \"\"\"\n",
    "        This function outputs the expected reflected power received at the location of the observing telescope from all of \n",
    "        the contributing FM stations at the time of the observation.\n",
    "\n",
    "        Args:\n",
    "            obsID (_type_): _description_\n",
    "            station_BW (int, optional): assumed bandwidth of the FM stations, (assumes all stations have same bandwidth). Defaults to 180 kHz.\n",
    "            div (int, optional): division factor decides the number of frequency samples considered in the assumed bandwidth. Defaults to 5.\n",
    "            bandpass (str, optional): assumes the bandpass structure of the FM stations assuming 180KHz. Available options, constant, Gaussian\n",
    "            stations_array (optional): FM contribution from where the Moon lying above the horizon during \n",
    "            the scheduled observation from given telescope. Defaults to None.\n",
    "            save_as_array (bool, optional): True if want to save the station array as file\n",
    "            savefilename (str, optional): if True, provide the filename to save, format:.npy\n",
    "            savepath    (str, optional): path to save the file\n",
    "\n",
    "        Raises:\n",
    "            TypeError: only self instance supported\n",
    "\n",
    "        Returns:\n",
    "            array: \n",
    "            freq (array): frequency array FM catalog. units: MHz\n",
    "            flux-density (array): reflected RFI FM flux-density at the location of the telescope, units: Jy\n",
    "            sigma-flux-density (array): errors based on the power in the flux-density, units: Jy\n",
    "        \"\"\"\n",
    "\n",
    "        moon_radius = 1737.4*(10**3) *u.m\n",
    "        MWA_A_eff = 22.2 *u.m *u.m\n",
    "        transmitter_BW = transmitter_BW * u.kHz   \n",
    "        Radar_Cross_Section = 0.081*(np.pi * (moon_radius**2))\n",
    "    \n",
    "        power_arr = np.empty(len(stations_array[1:])* div) ## input all the stations at given obsid\n",
    "        freq_arr = np.empty(len(stations_array[1:])* div) ## store corresponding frequency of stations\n",
    "        \n",
    "        for st_count in range(1, len(power_arr), div): # indexing over 5 elements\n",
    "            try:\n",
    "                # altaz array stores the [alt, az, distance] from \n",
    "                distance1 = np.average(stations_array[1:,-1]) # distance station-Moon (meters)\n",
    "\n",
    "                Power_at_Moon = ((stations_array[st_count,4])* Radar_Cross_Section/((distance1 - moon_radius.value)**2))\n",
    "                freq_dev = (np.linspace(-transmitter_BW/2, transmitter_BW/2, div)).to(u.MHz) # in MHz\n",
    "                freq_arr[st_count:st_count+div] = stations_array[st_count:st_count+div][:,4]*u.MHz + freq_dev\n",
    "                \n",
    "                if bandpass == 'constant':\n",
    "                    power[st_count:st_count+div] =  Power_at_Moon\n",
    "                    \n",
    "                elif bandpass == 'Gaussian':\n",
    "                    power_dev = np.array([.707, .95, 1., 0.95, .707])\n",
    "                    power[st_count:st_count+div] =  Power_at_Moon*power_dev\n",
    "                \n",
    "                ## I can assume that power follows a Gaussian-kind pattern,\n",
    "                ## instead of being constant throughout the 180kHz bandwidth\n",
    "                ## here we need to understand that the station power peaks at the station frequency\n",
    "                ## and assume that it was fell off FWHM at 90kHz (half around the bandwidth of 180kHz)\n",
    "            except:\n",
    "                pass\n",
    "        \n",
    "        argIndx = np.argsort(freq_arr) # sorting low to high freq\n",
    "        freq_arr = freq_arr[argIndx]\n",
    "        power = power[argIndx]\n",
    "        \n",
    "        freqFM_uniq, uniq_indx = np.unique(freq_arr, return_index=True) # unique indicies of FM frequencies\n",
    "        power_sum = np.empty(len(uniq_indx)) ## summing similar frequency power\n",
    "        power_var = np.empty(len(uniq_indx))\n",
    "        \n",
    "        for sum_index in range(len(power_sum)):\n",
    "            if sum_index == len(power_sum)-1:\n",
    "                # last element \n",
    "                power_sum[sum_index] = np.sum(power[uniq_indx[sum_index]: len(freq_arr)])\n",
    "                power_var[sum_index] = np.std(power[uniq_indx[sum_index]: len(freq_arr)])\n",
    "            else:\n",
    "                power_sum[sum_index] = np.sum(power[uniq_indx[sum_index]:uniq_indx[sum_index+1]])\n",
    "                power_var[sum_index] = np.std(power[uniq_indx[sum_index]:uniq_indx[sum_index+1]])\n",
    "        \n",
    "        distance2 = stations_array[0][-1]*u.m\n",
    "        # flux = power (Watts) / (distance^2 * bandwidth * MWA_area)\n",
    "        flux_density = power_sum*u.kilowatt/((4*np.pi*(distance2-moon_radius)**2)* transmitter_BW)#*MWA_A_eff) \n",
    "        flux_density_std = power_var*u.kilowatt/((4*np.pi*(distance2-moon_radius)**2)* transmitter_BW)#*MWA_A_eff) \n",
    "        flux_density = (flux_density).to(u.Jy)\n",
    "        flux_density_std = flux_density_std.to(u.Jy)  \n",
    "        freq_flux = np.array([freqFM_uniq, flux_density, flux_density_std])\n",
    "        \n",
    "        if save_as_array == True:\n",
    "            np.save(savepath+savefilename, freq_flux)\n",
    "            \n",
    "        else:   \n",
    "            return freqFM_uniq, flux_density, flux_density_std"
   ]
  },
  {
   "cell_type": "code",
   "execution_count": 32,
   "id": "33c71501",
   "metadata": {},
   "outputs": [
    {
     "name": "stdout",
     "output_type": "stream",
     "text": [
      "[4.68280333e-310 4.68280590e-310 4.68280333e-310 ... 4.62854171e+001\n",
      " 3.67598070e+008 1.30396523e+002]\n"
     ]
    },
    {
     "ename": "UnboundLocalError",
     "evalue": "local variable 'freq' referenced before assignment",
     "output_type": "error",
     "traceback": [
      "\u001b[0;31m---------------------------------------------------------------------------\u001b[0m",
      "\u001b[0;31mUnboundLocalError\u001b[0m                         Traceback (most recent call last)",
      "\u001b[0;32m/tmp/ipykernel_322295/1456831614.py\u001b[0m in \u001b[0;36m<module>\u001b[0;34m\u001b[0m\n\u001b[0;32m----> 1\u001b[0;31m get_FM_RFI_flux(obsID=obsID[0], transmitter_BW=180, div=5, bandpass='constant', stations_array=station_cont,\\\n\u001b[0m\u001b[1;32m      2\u001b[0m                         save_as_array=False, savefilename=None, savepath=None)\n",
      "\u001b[0;32m/tmp/ipykernel_322295/932435127.py\u001b[0m in \u001b[0;36mget_FM_RFI_flux\u001b[0;34m(obsID, transmitter_BW, div, bandpass, stations_array, save_as_array, savefilename, savepath)\u001b[0m\n\u001b[1;32m     58\u001b[0m             \u001b[0;32mpass\u001b[0m\u001b[0;34m\u001b[0m\u001b[0;34m\u001b[0m\u001b[0m\n\u001b[1;32m     59\u001b[0m \u001b[0;34m\u001b[0m\u001b[0m\n\u001b[0;32m---> 60\u001b[0;31m     \u001b[0margIndx\u001b[0m \u001b[0;34m=\u001b[0m \u001b[0mnp\u001b[0m\u001b[0;34m.\u001b[0m\u001b[0margsort\u001b[0m\u001b[0;34m(\u001b[0m\u001b[0mfreq\u001b[0m\u001b[0;34m)\u001b[0m \u001b[0;31m# sorting low to high freq\u001b[0m\u001b[0;34m\u001b[0m\u001b[0;34m\u001b[0m\u001b[0m\n\u001b[0m\u001b[1;32m     61\u001b[0m     \u001b[0mfreq\u001b[0m \u001b[0;34m=\u001b[0m \u001b[0mfreq\u001b[0m\u001b[0;34m[\u001b[0m\u001b[0margIndx\u001b[0m\u001b[0;34m]\u001b[0m\u001b[0;34m\u001b[0m\u001b[0;34m\u001b[0m\u001b[0m\n\u001b[1;32m     62\u001b[0m     \u001b[0mpower\u001b[0m \u001b[0;34m=\u001b[0m \u001b[0mpower\u001b[0m\u001b[0;34m[\u001b[0m\u001b[0margIndx\u001b[0m\u001b[0;34m]\u001b[0m\u001b[0;34m\u001b[0m\u001b[0;34m\u001b[0m\u001b[0m\n",
      "\u001b[0;31mUnboundLocalError\u001b[0m: local variable 'freq' referenced before assignment"
     ]
    }
   ],
   "source": [
    "get_FM_RFI_flux(obsID=obsID[0], transmitter_BW=180, div=5, bandpass='constant', stations_array=station_cont,\\\n",
    "                        save_as_array=False, savefilename=None, savepath=None)"
   ]
  },
  {
   "cell_type": "code",
   "execution_count": null,
   "id": "6e24b4af",
   "metadata": {},
   "outputs": [],
   "source": []
  }
 ],
 "metadata": {
  "kernelspec": {
   "display_name": "Python 3 (ipykernel)",
   "language": "python",
   "name": "python3"
  },
  "language_info": {
   "codemirror_mode": {
    "name": "ipython",
    "version": 3
   },
   "file_extension": ".py",
   "mimetype": "text/x-python",
   "name": "python",
   "nbconvert_exporter": "python",
   "pygments_lexer": "ipython3",
   "version": "3.10.12"
  }
 },
 "nbformat": 4,
 "nbformat_minor": 5
}
