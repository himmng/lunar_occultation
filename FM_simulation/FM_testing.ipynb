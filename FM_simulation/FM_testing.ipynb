{
 "cells": [
  {
   "cell_type": "code",
   "execution_count": 1,
   "id": "f8b6a35e",
   "metadata": {},
   "outputs": [],
   "source": [
    "from fm_flux import FM_CALC\n",
    "import numpy as np\n",
    "import matplotlib.pyplot as plt"
   ]
  },
  {
   "cell_type": "code",
   "execution_count": 2,
   "id": "9320f791",
   "metadata": {},
   "outputs": [],
   "source": [
    "catalog_path = './full_earth_FM_moonrak.npy'"
   ]
  },
  {
   "cell_type": "code",
   "execution_count": 3,
   "id": "076d8b5c",
   "metadata": {},
   "outputs": [],
   "source": [
    "obsID = np.loadtxt('/home/himanshu/pawsey/phase2/moon/scripts/obsIDs_Oct_7_10_2023', dtype=np.int32)"
   ]
  },
  {
   "cell_type": "code",
   "execution_count": 4,
   "id": "fbb7019d",
   "metadata": {},
   "outputs": [],
   "source": [
    "FM_process = FM_CALC(catalog_path=catalog_path)"
   ]
  },
  {
   "cell_type": "code",
   "execution_count": 5,
   "id": "729ab868",
   "metadata": {},
   "outputs": [],
   "source": [
    "altaz_dist = FM_process.get_altaz_n_dist(obsID = obsID[0], FM_loc=None, save_as_array=False,)"
   ]
  },
  {
   "cell_type": "code",
   "execution_count": 6,
   "id": "8f60872b",
   "metadata": {},
   "outputs": [
    {
     "data": {
      "text/plain": [
       "(171225, 3)"
      ]
     },
     "execution_count": 6,
     "metadata": {},
     "output_type": "execute_result"
    }
   ],
   "source": [
    "altaz_dist.shape"
   ]
  },
  {
   "cell_type": "code",
   "execution_count": 7,
   "id": "d865a8ca",
   "metadata": {},
   "outputs": [],
   "source": [
    "station_cont=FM_process.get_station_RFIcontributions(obsID= obsID[0], altaz_array=altaz_dist,\\\n",
    "                                                 randomise_zero_power_stations=True,\\\n",
    "                                       save_as_array=False, )"
   ]
  },
  {
   "cell_type": "code",
   "execution_count": 9,
   "id": "4235f1b3",
   "metadata": {},
   "outputs": [
    {
     "data": {
      "text/plain": [
       "(20477, 8)"
      ]
     },
     "execution_count": 9,
     "metadata": {},
     "output_type": "execute_result"
    }
   ],
   "source": [
    "station_cont.shape"
   ]
  },
  {
   "cell_type": "code",
   "execution_count": 10,
   "id": "c613980f",
   "metadata": {},
   "outputs": [
    {
     "ename": "IndexError",
     "evalue": "index 20481 is out of bounds for axis 0 with size 20477",
     "output_type": "error",
     "traceback": [
      "\u001b[0;31m---------------------------------------------------------------------------\u001b[0m",
      "\u001b[0;31mIndexError\u001b[0m                                Traceback (most recent call last)",
      "\u001b[0;32m/tmp/ipykernel_320576/686952377.py\u001b[0m in \u001b[0;36m<module>\u001b[0;34m\u001b[0m\n\u001b[0;32m----> 1\u001b[0;31m \u001b[0mFMflux\u001b[0m \u001b[0;34m=\u001b[0m \u001b[0mFM_process\u001b[0m\u001b[0;34m.\u001b[0m\u001b[0mget_FM_RFI_flux\u001b[0m\u001b[0;34m(\u001b[0m\u001b[0mobsID\u001b[0m\u001b[0;34m=\u001b[0m\u001b[0mobsID\u001b[0m\u001b[0;34m,\u001b[0m \u001b[0mstations_array\u001b[0m\u001b[0;34m=\u001b[0m\u001b[0mstation_cont\u001b[0m\u001b[0;34m,\u001b[0m \u001b[0msave_as_array\u001b[0m\u001b[0;34m=\u001b[0m\u001b[0;32mFalse\u001b[0m\u001b[0;34m,\u001b[0m\u001b[0;34m)\u001b[0m\u001b[0;34m\u001b[0m\u001b[0;34m\u001b[0m\u001b[0m\n\u001b[0m",
      "\u001b[0;32m~/Dropbox/phd/milestone2/lunar_occultation/FM_simulation/fm_flux.py\u001b[0m in \u001b[0;36mget_FM_RFI_flux\u001b[0;34m(self, obsID, station_BW, div, bandpass, stations_array, save_as_array, savefilename, savepath)\u001b[0m\n\u001b[1;32m    218\u001b[0m             \u001b[0mdistance1\u001b[0m \u001b[0;34m=\u001b[0m \u001b[0mnp\u001b[0m\u001b[0;34m.\u001b[0m\u001b[0maverage\u001b[0m\u001b[0;34m(\u001b[0m\u001b[0mstations_array\u001b[0m\u001b[0;34m[\u001b[0m\u001b[0;36m1\u001b[0m\u001b[0;34m:\u001b[0m\u001b[0;34m,\u001b[0m\u001b[0;34m-\u001b[0m\u001b[0;36m1\u001b[0m\u001b[0;34m]\u001b[0m\u001b[0;34m)\u001b[0m\u001b[0;34m*\u001b[0m\u001b[0mu\u001b[0m\u001b[0;34m.\u001b[0m\u001b[0mm\u001b[0m \u001b[0;31m# distance station-Moon (meters)\u001b[0m\u001b[0;34m\u001b[0m\u001b[0;34m\u001b[0m\u001b[0m\n\u001b[1;32m    219\u001b[0m \u001b[0;34m\u001b[0m\u001b[0m\n\u001b[0;32m--> 220\u001b[0;31m             \u001b[0mP_at_Moon\u001b[0m \u001b[0;34m=\u001b[0m \u001b[0;34m(\u001b[0m\u001b[0;34m(\u001b[0m\u001b[0;34m(\u001b[0m\u001b[0mstations_array\u001b[0m\u001b[0;34m[\u001b[0m\u001b[0mst_count\u001b[0m\u001b[0;34m,\u001b[0m\u001b[0;36m4\u001b[0m\u001b[0;34m]\u001b[0m\u001b[0;34m*\u001b[0m\u001b[0mu\u001b[0m\u001b[0;34m.\u001b[0m\u001b[0mkilowatt\u001b[0m\u001b[0;34m)\u001b[0m\u001b[0;34m.\u001b[0m\u001b[0mto\u001b[0m\u001b[0;34m(\u001b[0m\u001b[0mu\u001b[0m\u001b[0;34m.\u001b[0m\u001b[0mwatt\u001b[0m\u001b[0;34m)\u001b[0m\u001b[0;34m/\u001b[0m\u001b[0;34m(\u001b[0m\u001b[0;34m(\u001b[0m\u001b[0mdistance1\u001b[0m \u001b[0;34m-\u001b[0m \u001b[0mmoon_radius\u001b[0m\u001b[0;34m)\u001b[0m\u001b[0;34m**\u001b[0m\u001b[0;36m2\u001b[0m\u001b[0;34m)\u001b[0m\u001b[0;34m)\u001b[0m\u001b[0;34m*\u001b[0m\u001b[0mRadar_Cross_Section\u001b[0m\u001b[0;34m)\u001b[0m\u001b[0;34m\u001b[0m\u001b[0;34m\u001b[0m\u001b[0m\n\u001b[0m\u001b[1;32m    221\u001b[0m \u001b[0;34m\u001b[0m\u001b[0m\n\u001b[1;32m    222\u001b[0m             \u001b[0mfreq_dev\u001b[0m \u001b[0;34m=\u001b[0m \u001b[0;34m(\u001b[0m\u001b[0mnp\u001b[0m\u001b[0;34m.\u001b[0m\u001b[0mlinspace\u001b[0m\u001b[0;34m(\u001b[0m\u001b[0;34m-\u001b[0m\u001b[0mstation_BW\u001b[0m\u001b[0;34m/\u001b[0m\u001b[0;36m2\u001b[0m\u001b[0;34m,\u001b[0m \u001b[0mstation_BW\u001b[0m\u001b[0;34m/\u001b[0m\u001b[0;36m2\u001b[0m\u001b[0;34m,\u001b[0m \u001b[0mdiv\u001b[0m\u001b[0;34m)\u001b[0m\u001b[0;34m*\u001b[0m\u001b[0mu\u001b[0m\u001b[0;34m.\u001b[0m\u001b[0mkHz\u001b[0m\u001b[0;34m)\u001b[0m\u001b[0;34m.\u001b[0m\u001b[0mto\u001b[0m\u001b[0;34m(\u001b[0m\u001b[0mu\u001b[0m\u001b[0;34m.\u001b[0m\u001b[0mMHz\u001b[0m\u001b[0;34m)\u001b[0m \u001b[0;31m# in MHz\u001b[0m\u001b[0;34m\u001b[0m\u001b[0;34m\u001b[0m\u001b[0m\n",
      "\u001b[0;31mIndexError\u001b[0m: index 20481 is out of bounds for axis 0 with size 20477"
     ]
    }
   ],
   "source": [
    "FMflux = FM_process.get_FM_RFI_flux(obsID=obsID, stations_array=station_cont, save_as_array=False,)"
   ]
  },
  {
   "cell_type": "code",
   "execution_count": null,
   "id": "6f93a505",
   "metadata": {},
   "outputs": [],
   "source": []
  }
 ],
 "metadata": {
  "kernelspec": {
   "display_name": "Python 3 (ipykernel)",
   "language": "python",
   "name": "python3"
  },
  "language_info": {
   "codemirror_mode": {
    "name": "ipython",
    "version": 3
   },
   "file_extension": ".py",
   "mimetype": "text/x-python",
   "name": "python",
   "nbconvert_exporter": "python",
   "pygments_lexer": "ipython3",
   "version": "3.10.12"
  }
 },
 "nbformat": 4,
 "nbformat_minor": 5
}
