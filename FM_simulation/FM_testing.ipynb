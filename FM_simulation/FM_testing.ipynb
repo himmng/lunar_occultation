{
 "cells": [
  {
   "cell_type": "code",
   "execution_count": 1,
   "id": "e66e8cd2",
   "metadata": {},
   "outputs": [],
   "source": [
    "from fm_flux import FM_CALC\n",
    "from astropy import units as u\n",
    "import numpy as np\n",
    "import matplotlib.pyplot as plt"
   ]
  },
  {
   "cell_type": "code",
   "execution_count": 2,
   "id": "7ea5fa30",
   "metadata": {},
   "outputs": [],
   "source": [
    "catalog_path = './full_earth_FM_moonrak.npy'"
   ]
  },
  {
   "cell_type": "code",
   "execution_count": 22,
   "id": "c091ace6",
   "metadata": {},
   "outputs": [],
   "source": [
    "f = np.load(catalog_path)"
   ]
  },
  {
   "cell_type": "code",
   "execution_count": 23,
   "id": "e8bc5b49",
   "metadata": {},
   "outputs": [],
   "source": [
    "lat, long, power = f[:,1]*u.deg, f[:,2]*u.deg, f[:,4]*u.kilowatt"
   ]
  },
  {
   "cell_type": "code",
   "execution_count": 24,
   "id": "c1d29f5b",
   "metadata": {},
   "outputs": [
    {
     "data": {
      "text/plain": [
       "(<Quantity [ 49.090333,  41.45    ,  42.329694, ..., -27.      ,  -9.8     ,\n",
       "             41.216667] deg>,\n",
       " <Quantity [  4.873333,   2.164167,   9.158222, ..., -48.596944, -77.433333,\n",
       "             19.516667] deg>,\n",
       " <Quantity [0.5   , 0.    , 1.    , ..., 1.2273, 0.    , 0.    ] kW>)"
      ]
     },
     "execution_count": 24,
     "metadata": {},
     "output_type": "execute_result"
    }
   ],
   "source": [
    "lat, long, power"
   ]
  },
  {
   "cell_type": "code",
   "execution_count": 25,
   "id": "254a2789",
   "metadata": {},
   "outputs": [],
   "source": [
    "#-43.00311 to -12.46113 and longitude from 113.6594 to 153.61194"
   ]
  },
  {
   "cell_type": "code",
   "execution_count": 26,
   "id": "a687d298",
   "metadata": {},
   "outputs": [
    {
     "data": {
      "text/plain": [
       "(<Quantity 77.896667 deg>, <Quantity -77.85 deg>, <Quantity 179.988611 deg>)"
      ]
     },
     "execution_count": 26,
     "metadata": {},
     "output_type": "execute_result"
    }
   ],
   "source": [
    "lat.max(), lat.min(), long.max()"
   ]
  },
  {
   "cell_type": "code",
   "execution_count": 27,
   "id": "d5e1bfb7",
   "metadata": {},
   "outputs": [],
   "source": [
    "lat_low_indx = np.where(lat.value<=-12.46113)[0]\n",
    "lat_low = lat[lat_low_indx]\n",
    "long_low = long[lat_low_indx]\n",
    "power_low = power[lat_low_indx]\n",
    "\n",
    "lat_high_indx = np.where(lat_low.value>=-43.00311)[0]\n",
    "lat_high = lat_low[lat_high_indx]\n",
    "long_high = long_low[lat_high_indx]\n",
    "power_high = power_low[lat_high_indx]"
   ]
  },
  {
   "cell_type": "code",
   "execution_count": 28,
   "id": "2c3bfd99",
   "metadata": {},
   "outputs": [],
   "source": [
    "long_low_indx = np.where(long_high.value<=153.61194)[0]\n",
    "lat_high = lat_high[long_low_indx]\n",
    "long_high = long_high[long_low_indx]\n",
    "power_high = power_high[long_low_indx]\n",
    "\n",
    "\n",
    "long_high_indx = np.where(long_high.value>=113.6594)[0]\n",
    "lat_high = lat_high[long_high_indx]\n",
    "long_high = long_high[long_high_indx]\n",
    "power_high = power_high[long_high_indx]"
   ]
  },
  {
   "cell_type": "code",
   "execution_count": 30,
   "id": "9255211b",
   "metadata": {},
   "outputs": [
    {
     "data": {
      "text/plain": [
       "((3099,), <Quantity [1.e+01, 1.e+01, 1.e+01, ..., 1.e-03, 1.e-03, 1.e-03] kW>)"
      ]
     },
     "execution_count": 30,
     "metadata": {},
     "output_type": "execute_result"
    }
   ],
   "source": [
    "lat_high.shape, power_high"
   ]
  },
  {
   "cell_type": "code",
   "execution_count": 36,
   "id": "e28cc368",
   "metadata": {},
   "outputs": [
    {
     "data": {
      "text/plain": [
       "((171224,), <Quantity 8.40408154 kW>, <Quantity 7.77713935 kW>)"
      ]
     },
     "execution_count": 36,
     "metadata": {},
     "output_type": "execute_result"
    }
   ],
   "source": [
    "lat.shape, np.nanmean(power_high), np.nanmean(power)"
   ]
  },
  {
   "cell_type": "code",
   "execution_count": 33,
   "id": "8c80cc6a",
   "metadata": {},
   "outputs": [
    {
     "data": {
      "text/latex": [
       "$0.019558129 \\; \\mathrm{}$"
      ],
      "text/plain": [
       "<Quantity 0.01955813>"
      ]
     },
     "execution_count": 33,
     "metadata": {},
     "output_type": "execute_result"
    }
   ],
   "source": [
    "np.nansum(power_high)/np.nansum(power)"
   ]
  },
  {
   "cell_type": "code",
   "execution_count": 3,
   "id": "8bb487af",
   "metadata": {},
   "outputs": [
    {
     "ename": "OSError",
     "evalue": "/home/himanshu/pawsey/phase2/moon/scripts/obsIDs_Oct_7_10_2023 not found.",
     "output_type": "error",
     "traceback": [
      "\u001b[0;31m---------------------------------------------------------------------------\u001b[0m",
      "\u001b[0;31mOSError\u001b[0m                                   Traceback (most recent call last)",
      "\u001b[0;32m/tmp/ipykernel_64463/1907726413.py\u001b[0m in \u001b[0;36m<module>\u001b[0;34m\u001b[0m\n\u001b[0;32m----> 1\u001b[0;31m \u001b[0mobsID\u001b[0m \u001b[0;34m=\u001b[0m \u001b[0mnp\u001b[0m\u001b[0;34m.\u001b[0m\u001b[0mloadtxt\u001b[0m\u001b[0;34m(\u001b[0m\u001b[0;34m'/home/himanshu/pawsey/phase2/moon/scripts/obsIDs_Oct_7_10_2023'\u001b[0m\u001b[0;34m,\u001b[0m \u001b[0mdtype\u001b[0m\u001b[0;34m=\u001b[0m\u001b[0mnp\u001b[0m\u001b[0;34m.\u001b[0m\u001b[0mint32\u001b[0m\u001b[0;34m)\u001b[0m\u001b[0;34m\u001b[0m\u001b[0;34m\u001b[0m\u001b[0m\n\u001b[0m",
      "\u001b[0;32m/usr/lib/python3/dist-packages/numpy/lib/npyio.py\u001b[0m in \u001b[0;36mloadtxt\u001b[0;34m(fname, dtype, comments, delimiter, converters, skiprows, usecols, unpack, ndmin, encoding, max_rows, like)\u001b[0m\n\u001b[1;32m   1065\u001b[0m             \u001b[0mfname\u001b[0m \u001b[0;34m=\u001b[0m \u001b[0mos_fspath\u001b[0m\u001b[0;34m(\u001b[0m\u001b[0mfname\u001b[0m\u001b[0;34m)\u001b[0m\u001b[0;34m\u001b[0m\u001b[0;34m\u001b[0m\u001b[0m\n\u001b[1;32m   1066\u001b[0m         \u001b[0;32mif\u001b[0m \u001b[0m_is_string_like\u001b[0m\u001b[0;34m(\u001b[0m\u001b[0mfname\u001b[0m\u001b[0;34m)\u001b[0m\u001b[0;34m:\u001b[0m\u001b[0;34m\u001b[0m\u001b[0;34m\u001b[0m\u001b[0m\n\u001b[0;32m-> 1067\u001b[0;31m             \u001b[0mfh\u001b[0m \u001b[0;34m=\u001b[0m \u001b[0mnp\u001b[0m\u001b[0;34m.\u001b[0m\u001b[0mlib\u001b[0m\u001b[0;34m.\u001b[0m\u001b[0m_datasource\u001b[0m\u001b[0;34m.\u001b[0m\u001b[0mopen\u001b[0m\u001b[0;34m(\u001b[0m\u001b[0mfname\u001b[0m\u001b[0;34m,\u001b[0m \u001b[0;34m'rt'\u001b[0m\u001b[0;34m,\u001b[0m \u001b[0mencoding\u001b[0m\u001b[0;34m=\u001b[0m\u001b[0mencoding\u001b[0m\u001b[0;34m)\u001b[0m\u001b[0;34m\u001b[0m\u001b[0;34m\u001b[0m\u001b[0m\n\u001b[0m\u001b[1;32m   1068\u001b[0m             \u001b[0mfencoding\u001b[0m \u001b[0;34m=\u001b[0m \u001b[0mgetattr\u001b[0m\u001b[0;34m(\u001b[0m\u001b[0mfh\u001b[0m\u001b[0;34m,\u001b[0m \u001b[0;34m'encoding'\u001b[0m\u001b[0;34m,\u001b[0m \u001b[0;34m'latin1'\u001b[0m\u001b[0;34m)\u001b[0m\u001b[0;34m\u001b[0m\u001b[0;34m\u001b[0m\u001b[0m\n\u001b[1;32m   1069\u001b[0m             \u001b[0mfh\u001b[0m \u001b[0;34m=\u001b[0m \u001b[0miter\u001b[0m\u001b[0;34m(\u001b[0m\u001b[0mfh\u001b[0m\u001b[0;34m)\u001b[0m\u001b[0;34m\u001b[0m\u001b[0;34m\u001b[0m\u001b[0m\n",
      "\u001b[0;32m/usr/lib/python3/dist-packages/numpy/lib/_datasource.py\u001b[0m in \u001b[0;36mopen\u001b[0;34m(path, mode, destpath, encoding, newline)\u001b[0m\n\u001b[1;32m    191\u001b[0m \u001b[0;34m\u001b[0m\u001b[0m\n\u001b[1;32m    192\u001b[0m     \u001b[0mds\u001b[0m \u001b[0;34m=\u001b[0m \u001b[0mDataSource\u001b[0m\u001b[0;34m(\u001b[0m\u001b[0mdestpath\u001b[0m\u001b[0;34m)\u001b[0m\u001b[0;34m\u001b[0m\u001b[0;34m\u001b[0m\u001b[0m\n\u001b[0;32m--> 193\u001b[0;31m     \u001b[0;32mreturn\u001b[0m \u001b[0mds\u001b[0m\u001b[0;34m.\u001b[0m\u001b[0mopen\u001b[0m\u001b[0;34m(\u001b[0m\u001b[0mpath\u001b[0m\u001b[0;34m,\u001b[0m \u001b[0mmode\u001b[0m\u001b[0;34m,\u001b[0m \u001b[0mencoding\u001b[0m\u001b[0;34m=\u001b[0m\u001b[0mencoding\u001b[0m\u001b[0;34m,\u001b[0m \u001b[0mnewline\u001b[0m\u001b[0;34m=\u001b[0m\u001b[0mnewline\u001b[0m\u001b[0;34m)\u001b[0m\u001b[0;34m\u001b[0m\u001b[0;34m\u001b[0m\u001b[0m\n\u001b[0m\u001b[1;32m    194\u001b[0m \u001b[0;34m\u001b[0m\u001b[0m\n\u001b[1;32m    195\u001b[0m \u001b[0;34m\u001b[0m\u001b[0m\n",
      "\u001b[0;32m/usr/lib/python3/dist-packages/numpy/lib/_datasource.py\u001b[0m in \u001b[0;36mopen\u001b[0;34m(self, path, mode, encoding, newline)\u001b[0m\n\u001b[1;32m    531\u001b[0m                                       encoding=encoding, newline=newline)\n\u001b[1;32m    532\u001b[0m         \u001b[0;32melse\u001b[0m\u001b[0;34m:\u001b[0m\u001b[0;34m\u001b[0m\u001b[0;34m\u001b[0m\u001b[0m\n\u001b[0;32m--> 533\u001b[0;31m             \u001b[0;32mraise\u001b[0m \u001b[0mIOError\u001b[0m\u001b[0;34m(\u001b[0m\u001b[0;34m\"%s not found.\"\u001b[0m \u001b[0;34m%\u001b[0m \u001b[0mpath\u001b[0m\u001b[0;34m)\u001b[0m\u001b[0;34m\u001b[0m\u001b[0;34m\u001b[0m\u001b[0m\n\u001b[0m\u001b[1;32m    534\u001b[0m \u001b[0;34m\u001b[0m\u001b[0m\n\u001b[1;32m    535\u001b[0m \u001b[0;34m\u001b[0m\u001b[0m\n",
      "\u001b[0;31mOSError\u001b[0m: /home/himanshu/pawsey/phase2/moon/scripts/obsIDs_Oct_7_10_2023 not found."
     ]
    }
   ],
   "source": [
    "obsID = np.loadtxt('/home/himanshu/pawsey/pha', dtype=np.int32)"
   ]
  },
  {
   "cell_type": "code",
   "execution_count": 4,
   "id": "bceba2f6",
   "metadata": {},
   "outputs": [],
   "source": [
    "FM_process = FM_CALC(catalog_path=catalog_path)"
   ]
  },
  {
   "cell_type": "code",
   "execution_count": 5,
   "id": "334c154e",
   "metadata": {},
   "outputs": [],
   "source": [
    "altaz_dist = FM_process.get_altaz_n_dist(obsID = obsID[0], FM_loc=None, save_as_array=False,)"
   ]
  },
  {
   "cell_type": "code",
   "execution_count": 6,
   "id": "a7b42470",
   "metadata": {},
   "outputs": [
    {
     "data": {
      "text/plain": [
       "(171225, 3)"
      ]
     },
     "execution_count": 6,
     "metadata": {},
     "output_type": "execute_result"
    }
   ],
   "source": [
    "altaz_dist.shape"
   ]
  },
  {
   "cell_type": "code",
   "execution_count": 31,
   "id": "e95154a9",
   "metadata": {},
   "outputs": [],
   "source": [
    "station_cont=FM_process.get_station_RFIcontributions(obsID=obsID[0], altaz_array=altaz_dist,\\\n",
    "                                                 randomise_zero_power_stations=True,\\\n",
    "                                       save_as_array=False, )"
   ]
  },
  {
   "cell_type": "code",
   "execution_count": 32,
   "id": "3508cd53",
   "metadata": {},
   "outputs": [
    {
     "data": {
      "text/plain": [
       "(25345, 8)"
      ]
     },
     "execution_count": 32,
     "metadata": {},
     "output_type": "execute_result"
    }
   ],
   "source": [
    "station_cont.shape"
   ]
  },
  {
   "cell_type": "code",
   "execution_count": 35,
   "id": "9edc19b1",
   "metadata": {},
   "outputs": [
    {
     "data": {
      "text/plain": [
       "[<matplotlib.lines.Line2D at 0x7f36e5932260>]"
      ]
     },
     "execution_count": 35,
     "metadata": {},
     "output_type": "execute_result"
    },
    {
     "data": {
      "image/png": "[encoded data removed]",
      "text/plain": [
       "<Figure size 432x288 with 1 Axes>"
      ]
     },
     "metadata": {
      "needs_background": "light"
     },
     "output_type": "display_data"
    }
   ],
   "source": [
    "plt.plot(station_cont[:,0], station_cont[:,2], '.')"
   ]
  },
  {
   "cell_type": "code",
   "execution_count": 36,
   "id": "21700615",
   "metadata": {},
   "outputs": [
    {
     "ename": "UnboundLocalError",
     "evalue": "local variable 'freq' referenced before assignment",
     "output_type": "error",
     "traceback": [
      "\u001b[0;31m---------------------------------------------------------------------------\u001b[0m",
      "\u001b[0;31mUnboundLocalError\u001b[0m                         Traceback (most recent call last)",
      "\u001b[0;32m/tmp/ipykernel_397696/96288463.py\u001b[0m in \u001b[0;36m<module>\u001b[0;34m\u001b[0m\n\u001b[0;32m----> 1\u001b[0;31m \u001b[0mFMflux\u001b[0m \u001b[0;34m=\u001b[0m \u001b[0mFM_process\u001b[0m\u001b[0;34m.\u001b[0m\u001b[0mget_FM_RFI_flux\u001b[0m\u001b[0;34m(\u001b[0m\u001b[0mobsID\u001b[0m\u001b[0;34m=\u001b[0m\u001b[0mobsID\u001b[0m\u001b[0;34m,\u001b[0m\u001b[0mbandpass\u001b[0m\u001b[0;34m=\u001b[0m\u001b[0;34m'constant'\u001b[0m\u001b[0;34m,\u001b[0m \u001b[0mstations_array\u001b[0m\u001b[0;34m=\u001b[0m\u001b[0mstation_cont\u001b[0m\u001b[0;34m,\u001b[0m \u001b[0msave_as_array\u001b[0m\u001b[0;34m=\u001b[0m\u001b[0;32mFalse\u001b[0m\u001b[0;34m,\u001b[0m\u001b[0;34m)\u001b[0m\u001b[0;34m\u001b[0m\u001b[0;34m\u001b[0m\u001b[0m\n\u001b[0m",
      "\u001b[0;32m~/Dropbox/phd/milestone2/lunar_occultation/FM_simulation/fm_flux.py\u001b[0m in \u001b[0;36mget_FM_RFI_flux\u001b[0;34m(self, obsID, transmitter_BW, div, bandpass, stations_array, save_as_array, savefilename, savepath)\u001b[0m\n\u001b[1;32m    233\u001b[0m                 \u001b[0;32mpass\u001b[0m\u001b[0;34m\u001b[0m\u001b[0;34m\u001b[0m\u001b[0m\n\u001b[1;32m    234\u001b[0m \u001b[0;34m\u001b[0m\u001b[0m\n\u001b[0;32m--> 235\u001b[0;31m         \u001b[0margIndx\u001b[0m \u001b[0;34m=\u001b[0m \u001b[0mnp\u001b[0m\u001b[0;34m.\u001b[0m\u001b[0margsort\u001b[0m\u001b[0;34m(\u001b[0m\u001b[0mfreq\u001b[0m\u001b[0;34m)\u001b[0m \u001b[0;31m# sorting low to high freq\u001b[0m\u001b[0;34m\u001b[0m\u001b[0;34m\u001b[0m\u001b[0m\n\u001b[0m\u001b[1;32m    236\u001b[0m         \u001b[0mfreq\u001b[0m \u001b[0;34m=\u001b[0m \u001b[0mfreq\u001b[0m\u001b[0;34m[\u001b[0m\u001b[0margIndx\u001b[0m\u001b[0;34m]\u001b[0m\u001b[0;34m\u001b[0m\u001b[0;34m\u001b[0m\u001b[0m\n\u001b[1;32m    237\u001b[0m         \u001b[0mpower\u001b[0m \u001b[0;34m=\u001b[0m \u001b[0mpower\u001b[0m\u001b[0;34m[\u001b[0m\u001b[0margIndx\u001b[0m\u001b[0;34m]\u001b[0m\u001b[0;34m\u001b[0m\u001b[0;34m\u001b[0m\u001b[0m\n",
      "\u001b[0;31mUnboundLocalError\u001b[0m: local variable 'freq' referenced before assignment"
     ]
    }
   ],
   "source": [
    "FMflux = FM_process.get_FM_RFI_flux(obsID=obsID,bandpass='constant', stations_array=station_cont, save_as_array=False,)"
   ]
  },
  {
   "cell_type": "code",
   "execution_count": null,
   "id": "abee7503",
   "metadata": {},
   "outputs": [],
   "source": [
    "plt.yscale('log')\n",
    "plt.plot(FMflux[0], FMflux[1],'.')"
   ]
  },
  {
   "cell_type": "code",
   "execution_count": 16,
   "id": "cf333f04",
   "metadata": {},
   "outputs": [],
   "source": [
    "def get_station_RFIcontributions(obsID, altaz_array=None, FM_catalog=None, randomise_zero_power_stations=True,\\\n",
    "                                save_as_array=True, savefilename=None, savepath=None):\n",
    "        \n",
    "        \"\"\"\n",
    "        Get the FM stations contributing in the reflected RFI from the Moon at the given observation time.\n",
    "\n",
    "        Args:\n",
    "\n",
    "            obsID (int): GPSTIME at which the Moon's sky location is obtained.\n",
    "            altaz_array (bool, optional): if True then provide altaz array information, otherwise uses self.instance\n",
    "            altaz_filename (str, optional): path of the altaz file.\n",
    "            randomise_zero_power_stations (bool, optional): if randomise the zero/missing power stations based on the non-zeros powered stations\n",
    "            save_as_array (bool, optional): True if want to save the station array as file\n",
    "            savefilename (str, optional): if True, provide the filename to save, format:.npy\n",
    "            savepath    (str, optional): path to save the file\n",
    "            \n",
    "        Raises:\n",
    "            RuntimeError: uses function under main instances\n",
    "            TypeError: bool required\n",
    "\n",
    "        Returns:\n",
    "        \n",
    "            file or ndarray: FM contribution from where the Moon lying above the horizon during the scheduled observation from given telescope.\n",
    "            \n",
    "        \"\"\"\n",
    "            \n",
    "        ## FM catalog includes FM transmitters across the earth.[station ID, lat(deg.), long(deg.), freq(MHz), power(KW)]\n",
    "        #FM_catalog = self.FM_catlog \n",
    "        \n",
    "        altaz_stations = altaz_array[1:,:]\n",
    "        altaz_telescope = altaz_array[0]\n",
    "        \n",
    "        if altaz_telescope[1]>0: # Moon is above the horizon at the telescope's location for given obsID (GPSTIME)\n",
    "            \n",
    "            contributing_stations_index = np.where(altaz_stations[:,1]>=0.)[0] # Moon above horizon at the location of FM stations\n",
    "            altaz_stations = altaz_stations[contributing_stations_index] \n",
    "            FM_catalog = FM_catalog[contributing_stations_index]\n",
    "            print(FM_catalog)\n",
    "            if type(randomise_zero_power_stations) != bool:\n",
    "                raise TypeError('not a bool type')\n",
    "            \n",
    "            elif bool(randomise_zero_power_stations) == True:\n",
    "                ## checking 0 KW power stations (missing data)\n",
    "                \n",
    "                nonzero_power_stations_ind = np.where(FM_catalog[:,4]!=0.)[0] \n",
    "                mean_power = np.nanmean(FM_catalog[:,4][nonzero_power_stations_ind])\n",
    "                std_power = np.nanstd(FM_catalog[:,4][nonzero_power_stations_ind]) \n",
    "                 \n",
    "                zero_power_stations_ind = np.where(FM_catalog[:,4]!=0.)[0] \n",
    "                \n",
    "                rand_power = np.random.normal(loc=mean_power, scale=std_power, size=len(zero_power_stations_ind)) \n",
    "                ## giving unhealthy stations a random power\n",
    "                FM_catalog[zero_power_stations_ind, 4] = np.abs(rand_power) # to stations\n",
    "                    \n",
    "            elif bool(randomise_zero_power_stations) == False:\n",
    "                \n",
    "                # discarding zero powered stations\n",
    "                FM_catalog = np.delete(FM_catalog, zero_power_stations_ind, axis=0) \n",
    "                altaz_stations = np.delete(altaz_stations, zero_power_stations_ind, axis=0)\n",
    "            # stored data as station ID, lat, long, freq, power, alt, az, distance\n",
    "            stations = np.concatenate([FM_catalog, altaz_stations], axis=1) # typical shape N x 8\n",
    "            ## adding telescope location in the zeroth index of the array # shape required 1 x 8\n",
    "            # stored data as np.nan, lat, long, height, np.nan alt, az, distance (frequency is replaced by height)\n",
    "            telescope_parameters = np.array([np.nan, self.telescope_loc[0],\\\n",
    "                                                        self.telescope_loc[1],\\\n",
    "                                                            self.telescope_loc[2],\\\n",
    "                                                                np.nan,\\\n",
    "                                                                    altaz_telescope[0], \\\n",
    "                                                                        altaz_telescope[1],\\\n",
    "                                                                            altaz_telescope[2]])\n",
    "            telescope_parameters = telescope_parameters.reshape(1, len(telescope_parameters))\n",
    "            stations = np.concatenate([telescope_parameters, stations], axis=0)\n",
    "            \n",
    "            if save_as_array == True:\n",
    "                np.save(savepath+savefilename, stations)   \n",
    "            else:   \n",
    "                return stations\n",
    "        else:\n",
    "            print(\"The Moon is below the horizon at telescope's at given GPSTIME!\")\n",
    "            pass\n"
   ]
  },
  {
   "cell_type": "code",
   "execution_count": null,
   "id": "0b88a196",
   "metadata": {},
   "outputs": [],
   "source": [
    "station_cont[:,3]"
   ]
  },
  {
   "cell_type": "code",
   "execution_count": 17,
   "id": "aecdb2f6",
   "metadata": {},
   "outputs": [
    {
     "data": {
      "text/plain": [
       "array([0., 0., 0., ..., 0., 0., 0.])"
      ]
     },
     "execution_count": 17,
     "metadata": {},
     "output_type": "execute_result"
    }
   ],
   "source": [
    "FM_process.FM_catlog[:,3]"
   ]
  },
  {
   "cell_type": "code",
   "execution_count": null,
   "id": "ecb073ce",
   "metadata": {},
   "outputs": [],
   "source": [
    "get_station_RFIcontributions(obsID, altaz_array=None, randomise_zero_power_stations=True,\\\n",
    "                                save_as_array=True, savefilename=None, savepath=None)"
   ]
  }
 ],
 "metadata": {
  "kernelspec": {
   "display_name": "Python 3 (ipykernel)",
   "language": "python",
   "name": "python3"
  },
  "language_info": {
   "codemirror_mode": {
    "name": "ipython",
    "version": 3
   },
   "file_extension": ".py",
   "mimetype": "text/x-python",
   "name": "python",
   "nbconvert_exporter": "python",
   "pygments_lexer": "ipython3",
   "version": "3.10.12"
  }
 },
 "nbformat": 4,
 "nbformat_minor": 5
}
